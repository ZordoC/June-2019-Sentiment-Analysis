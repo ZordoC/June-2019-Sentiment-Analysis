{
 "cells": [
  {
   "cell_type": "markdown",
   "metadata": {},
   "source": [
    "<h5> \n",
    "    <font size = 6 > \n",
    "    <font color = green>    \n",
    "   <h1> Class Imbalance : undersampling </h1>\n",
    "        \n",
    "        \n",
    "    "
   ]
  },
  {
   "cell_type": "code",
   "execution_count": 27,
   "metadata": {},
   "outputs": [],
   "source": [
    "import os \n",
    "import pandas as pd \n",
    "import numpy as np \n",
    "from time import time\n",
    "import multiprocessing as mp\n",
    "from multiprocessing import Process, current_process \n",
    "from sklearn.model_selection import train_test_split\n",
    "from sklearn.ensemble import RandomForestClassifier\n",
    "from sklearn.metrics import accuracy_score, confusion_matrix,cohen_kappa_score\n",
    "import time\n",
    "\n",
    "\n"
   ]
  },
  {
   "cell_type": "code",
   "execution_count": 2,
   "metadata": {},
   "outputs": [],
   "source": [
    "iphone_df = pd.read_csv(r\"iphone_smallmatrix_labeled_9d.csv\")\n"
   ]
  },
  {
   "cell_type": "code",
   "execution_count": 3,
   "metadata": {},
   "outputs": [
    {
     "data": {
      "text/plain": [
       "5    7540\n",
       "0    1962\n",
       "4    1439\n",
       "3    1188\n",
       "2     454\n",
       "1     390\n",
       "Name: iphonesentiment, dtype: int64"
      ]
     },
     "execution_count": 3,
     "metadata": {},
     "output_type": "execute_result"
    }
   ],
   "source": [
    "iphone_df['iphonesentiment'].value_counts()"
   ]
  },
  {
   "cell_type": "code",
   "execution_count": 8,
   "metadata": {},
   "outputs": [],
   "source": [
    "minority = len(iphone_df[iphone_df['iphonesentiment'] == 1])"
   ]
  },
  {
   "cell_type": "code",
   "execution_count": 9,
   "metadata": {},
   "outputs": [
    {
     "name": "stdout",
     "output_type": "stream",
     "text": [
      "Int64Index([    0,     1,     2,     3,     4,     7,     8,     9,    11,\n",
      "               12,\n",
      "            ...\n",
      "            12867, 12871, 12885, 12906, 12914, 12919, 12923, 12934, 12950,\n",
      "            12969],\n",
      "           dtype='int64', length=1962)\n",
      "Int64Index([ 824,  825,  827,  828,  829,  830,  831,  832,  833,  834,\n",
      "            ...\n",
      "            1297, 1298, 1299, 1300, 1301, 1302, 1303, 1304, 1306, 1308],\n",
      "           dtype='int64', length=390)\n",
      "Int64Index([  103,   154,   310,   333,   450,   550,   591,   666,   884,\n",
      "             1028,\n",
      "            ...\n",
      "            10926, 11099, 11132, 11397, 11711, 11887, 11973, 12000, 12442,\n",
      "            12726],\n",
      "           dtype='int64', length=454)\n",
      "Int64Index([   10,    71,    74,   109,   138,   146,   149,   218,   258,\n",
      "              264,\n",
      "            ...\n",
      "            12750, 12751, 12752, 12757, 12797, 12824, 12887, 12895, 12918,\n",
      "            12941],\n",
      "           dtype='int64', length=1188)\n",
      "Int64Index([    5,     6,    77,   126,   143,   156,   194,   207,   212,\n",
      "              214,\n",
      "            ...\n",
      "            12737, 12806, 12813, 12831, 12849, 12879, 12896, 12904, 12956,\n",
      "            12963],\n",
      "           dtype='int64', length=1439)\n",
      "Int64Index([ 3423,  3425,  3426,  3427,  3428,  3429,  3430,  3431,  3432,\n",
      "             3433,\n",
      "            ...\n",
      "            12961, 12962, 12964, 12965, 12966, 12967, 12968, 12970, 12971,\n",
      "            12972],\n",
      "           dtype='int64', length=7540)\n"
     ]
    }
   ],
   "source": [
    "dic = { 0: 0, 1:0, 2:0, 3:0, 4:0, 5:0 }\n",
    "\n",
    "for i in range(6):\n",
    "    dic[i]= iphone_df[iphone_df['iphonesentiment'] == i].index\n",
    "    print(dic[i])\n",
    "    "
   ]
  },
  {
   "cell_type": "code",
   "execution_count": 10,
   "metadata": {},
   "outputs": [],
   "source": [
    "dic_ind = { 0: 0, 1:0, 2:0, 3:0, 4:0, 5:0 }\n",
    "\n",
    "for i in range(6):\n",
    "    dic_ind[i] = np.random.choice(dic[i],minority,replace=False)\n",
    "    "
   ]
  },
  {
   "cell_type": "code",
   "execution_count": 11,
   "metadata": {},
   "outputs": [],
   "source": [
    " under_sample_indices = np.concatenate((dic_ind[0],dic_ind[1],dic_ind[2],dic_ind[3],dic_ind[4],dic_ind[5]), axis=0,  )"
   ]
  },
  {
   "cell_type": "code",
   "execution_count": 12,
   "metadata": {},
   "outputs": [],
   "source": [
    "under_sample_df = iphone_df.loc[under_sample_indices]"
   ]
  },
  {
   "cell_type": "code",
   "execution_count": 15,
   "metadata": {},
   "outputs": [],
   "source": [
    "def X_Y_split(df,label):\n",
    "    \n",
    "    X= df.loc[:,df.columns != label ]\n",
    "    y = df[label]\n",
    "    \n",
    "    return X,y \n",
    "\n",
    "    \n",
    "    "
   ]
  },
  {
   "cell_type": "code",
   "execution_count": 20,
   "metadata": {},
   "outputs": [],
   "source": [
    "X_og,y_og = X_Y_split(iphone_df,'iphonesentiment')\n",
    "\n",
    "X_us,y_us = X_Y_split(under_sample_df,'iphonesentiment')"
   ]
  },
  {
   "cell_type": "code",
   "execution_count": 24,
   "metadata": {},
   "outputs": [
    {
     "name": "stdout",
     "output_type": "stream",
     "text": [
      "5    7540\n",
      "0    1962\n",
      "4    1439\n",
      "3    1188\n",
      "2     454\n",
      "1     390\n",
      "Name: iphonesentiment, dtype: int64\n",
      "\n",
      "\n",
      "5    390\n",
      "3    390\n",
      "1    390\n",
      "4    390\n",
      "2    390\n",
      "0    390\n",
      "Name: iphonesentiment, dtype: int64\n"
     ]
    }
   ],
   "source": [
    "print(y_og.value_counts())\n",
    "print(\"\\n\")\n",
    "print(y_us.value_counts())"
   ]
  },
  {
   "cell_type": "code",
   "execution_count": 28,
   "metadata": {},
   "outputs": [],
   "source": [
    "\n",
    "X_train_og , X_test_og , y_train_og , y_test_og =  train_test_split(X_og, y_og, test_size=0.33, random_state=42)\n",
    "\n"
   ]
  },
  {
   "cell_type": "code",
   "execution_count": null,
   "metadata": {},
   "outputs": [],
   "source": []
  },
  {
   "cell_type": "code",
   "execution_count": 29,
   "metadata": {},
   "outputs": [
    {
     "name": "stdout",
     "output_type": "stream",
     "text": [
      "--- Run Time is : 0.02 mins--- \n",
      " \n",
      "Accuracy :  0.7655301261092947\n",
      "\n",
      "\n",
      "Kappa's :  0.54615931202376\n",
      "\n",
      "\n",
      "Confusion Matrix : \n",
      " \n",
      "   [[ 387    1    1    2    4    8]\n",
      " [   1    0    0    0    0    4]\n",
      " [   0    0   22    0    1    6]\n",
      " [   2    0    1  272    3   12]\n",
      " [   4    1    1    3  157   30]\n",
      " [ 221  112  137  122  327 2440]]\n"
     ]
    }
   ],
   "source": [
    "start_time = time.time()\n",
    "\n",
    "rf = RandomForestClassifier()\n",
    "\n",
    "rf.fit(X_train_og,y_train_og)\n",
    "\n",
    "predictions = rf.predict(X_test_og)\n",
    "\n",
    "end_time = start_time - time.time()\n",
    "\n",
    "print(\"--- Run Time is : %s mins--- \\n \" % np.round(((time.time()-start_time)/60),2))\n",
    "print(\"Accuracy : \",accuracy_score(predictions,y_test_og))\n",
    "print(\"\\n\")\n",
    "\n",
    "print(\"Kappa's : \",cohen_kappa_score(predictions,y_test_og))\n",
    "\n",
    "print(\"\\n\")\n",
    "print(\"Confusion Matrix : \\n \\n  \",confusion_matrix(predictions,y_test_og) )\n"
   ]
  },
  {
   "cell_type": "code",
   "execution_count": 32,
   "metadata": {},
   "outputs": [],
   "source": [
    "X_train_us, X_test_us, y_train_us, y_test_us=  train_test_split(X_us, y_us, test_size=0.33, random_state=42)\n"
   ]
  },
  {
   "cell_type": "code",
   "execution_count": 33,
   "metadata": {},
   "outputs": [
    {
     "name": "stdout",
     "output_type": "stream",
     "text": [
      "--- Run Time is : 0.0 mins--- \n",
      " \n",
      "Accuracy :  0.4553686934023286\n",
      "\n",
      "\n",
      "Kappa's :  0.34436623123353016\n",
      "\n",
      "\n",
      "Confusion Matrix : \n",
      " \n",
      "   [[87  1  1  1  3  5]\n",
      " [29 85 66 27 63 74]\n",
      " [ 5 13 23  7  7  7]\n",
      " [ 1  5  3 87  1  4]\n",
      " [ 5  3  5  0 43  5]\n",
      " [ 9 28 25  4 14 27]]\n"
     ]
    }
   ],
   "source": [
    "start_time = time.time()\n",
    "\n",
    "rf = RandomForestClassifier()\n",
    "\n",
    "rf.fit(X_train_us,y_train_us)\n",
    "\n",
    "predictions = rf.predict(X_test_us)\n",
    "\n",
    "end_time = start_time - time.time()\n",
    "\n",
    "print(\"--- Run Time is : %s mins--- \\n \" % np.round(((time.time()-start_time)/60),2))\n",
    "print(\"Accuracy : \",accuracy_score(predictions,y_test_us))\n",
    "print(\"\\n\")\n",
    "\n",
    "print(\"Kappa's : \",cohen_kappa_score(predictions,y_test_us))\n",
    "\n",
    "print(\"\\n\")\n",
    "print(\"Confusion Matrix : \\n \\n  \",confusion_matrix(predictions,y_test_us) )\n"
   ]
  },
  {
   "cell_type": "code",
   "execution_count": 34,
   "metadata": {},
   "outputs": [
    {
     "name": "stdout",
     "output_type": "stream",
     "text": [
      "--- Run Time is : 0.01 mins--- \n",
      " \n",
      "Accuracy :  0.30382998598785615\n",
      "\n",
      "\n",
      "Kappa's :  0.23005136211142063\n",
      "\n",
      "\n",
      "Confusion Matrix : \n",
      " \n",
      "   [[ 396    0    0    2    9   36]\n",
      " [ 164  107  101   88  229 1836]\n",
      " [  16    4   50    5   29  175]\n",
      " [   8    0    6  288   13   77]\n",
      " [  14    0    1    6  184  100]\n",
      " [  17    3    4   10   28  276]]\n"
     ]
    }
   ],
   "source": [
    "start_time = time.time()\n",
    "\n",
    "rf = RandomForestClassifier()\n",
    "\n",
    "rf.fit(X_us,y_us)\n",
    "\n",
    "predictions = rf.predict(X_test_og)\n",
    "\n",
    "end_time = start_time - time.time()\n",
    "\n",
    "print(\"--- Run Time is : %s mins--- \\n \" % np.round(((time.time()-start_time)/60),2))\n",
    "print(\"Accuracy : \",accuracy_score(predictions,y_test_og))\n",
    "print(\"\\n\")\n",
    "\n",
    "print(\"Kappa's : \",cohen_kappa_score(predictions,y_test_og))\n",
    "\n",
    "print(\"\\n\")\n",
    "print(\"Confusion Matrix : \\n \\n  \",confusion_matrix(predictions,y_test_og) )\n"
   ]
  },
  {
   "cell_type": "markdown",
   "metadata": {},
   "source": [
    "<h5> \n",
    "    <font size = 4> \n",
    "      We can see that despite moving our errors from the majority class we still got worse results anyways   \n",
    "      "
   ]
  },
  {
   "cell_type": "code",
   "execution_count": null,
   "metadata": {},
   "outputs": [],
   "source": []
  }
 ],
 "metadata": {
  "kernelspec": {
   "display_name": "Python 3",
   "language": "python",
   "name": "python3"
  },
  "language_info": {
   "codemirror_mode": {
    "name": "ipython",
    "version": 3
   },
   "file_extension": ".py",
   "mimetype": "text/x-python",
   "name": "python",
   "nbconvert_exporter": "python",
   "pygments_lexer": "ipython3",
   "version": "3.7.3"
  },
  "varInspector": {
   "cols": {
    "lenName": 16,
    "lenType": 16,
    "lenVar": 40
   },
   "kernels_config": {
    "python": {
     "delete_cmd_postfix": "",
     "delete_cmd_prefix": "del ",
     "library": "var_list.py",
     "varRefreshCmd": "print(var_dic_list())"
    },
    "r": {
     "delete_cmd_postfix": ") ",
     "delete_cmd_prefix": "rm(",
     "library": "var_list.r",
     "varRefreshCmd": "cat(var_dic_list()) "
    }
   },
   "types_to_exclude": [
    "module",
    "function",
    "builtin_function_or_method",
    "instance",
    "_Feature"
   ],
   "window_display": false
  }
 },
 "nbformat": 4,
 "nbformat_minor": 2
}
