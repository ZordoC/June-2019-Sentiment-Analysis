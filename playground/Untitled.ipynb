{
 "cells": [
  {
   "cell_type": "code",
   "execution_count": 1,
   "metadata": {},
   "outputs": [
    {
     "name": "stdout",
     "output_type": "stream",
     "text": [
      "2.0.0-beta1\n"
     ]
    }
   ],
   "source": [
    "import pandas as pd \n",
    "import numpy as np \n",
    "import time \n",
    "\n",
    "import matplotlib.pyplot as plt\n",
    "\n",
    "import tensorflow as tf\n",
    "from tensorflow import keras\n",
    "\n",
    "from tensorflow import feature_column\n",
    "from tensorflow.keras import layers\n",
    "\n",
    "print(tf.__version__)\n"
   ]
  },
  {
   "cell_type": "code",
   "execution_count": 2,
   "metadata": {},
   "outputs": [],
   "source": [
    "#samsung_df = pd.read_csv(r\"galaxy_smallmatrix_labeled_9d.csv\")\n",
    "dataframe = pd.read_csv(r\"iphone_smallmatrix_labeled_9d.csv\")"
   ]
  },
  {
   "cell_type": "code",
   "execution_count": 3,
   "metadata": {},
   "outputs": [
    {
     "data": {
      "text/html": [
       "<div>\n",
       "<style scoped>\n",
       "    .dataframe tbody tr th:only-of-type {\n",
       "        vertical-align: middle;\n",
       "    }\n",
       "\n",
       "    .dataframe tbody tr th {\n",
       "        vertical-align: top;\n",
       "    }\n",
       "\n",
       "    .dataframe thead th {\n",
       "        text-align: right;\n",
       "    }\n",
       "</style>\n",
       "<table border=\"1\" class=\"dataframe\">\n",
       "  <thead>\n",
       "    <tr style=\"text-align: right;\">\n",
       "      <th></th>\n",
       "      <th>iphone</th>\n",
       "      <th>samsunggalaxy</th>\n",
       "      <th>sonyxperia</th>\n",
       "      <th>nokialumina</th>\n",
       "      <th>htcphone</th>\n",
       "      <th>ios</th>\n",
       "      <th>googleandroid</th>\n",
       "      <th>iphonecampos</th>\n",
       "      <th>samsungcampos</th>\n",
       "      <th>sonycampos</th>\n",
       "      <th>...</th>\n",
       "      <th>sonyperunc</th>\n",
       "      <th>nokiaperunc</th>\n",
       "      <th>htcperunc</th>\n",
       "      <th>iosperpos</th>\n",
       "      <th>googleperpos</th>\n",
       "      <th>iosperneg</th>\n",
       "      <th>googleperneg</th>\n",
       "      <th>iosperunc</th>\n",
       "      <th>googleperunc</th>\n",
       "      <th>iphonesentiment</th>\n",
       "    </tr>\n",
       "  </thead>\n",
       "  <tbody>\n",
       "    <tr>\n",
       "      <th>12968</th>\n",
       "      <td>1</td>\n",
       "      <td>0</td>\n",
       "      <td>0</td>\n",
       "      <td>0</td>\n",
       "      <td>0</td>\n",
       "      <td>0</td>\n",
       "      <td>0</td>\n",
       "      <td>0</td>\n",
       "      <td>0</td>\n",
       "      <td>0</td>\n",
       "      <td>...</td>\n",
       "      <td>0</td>\n",
       "      <td>0</td>\n",
       "      <td>0</td>\n",
       "      <td>0</td>\n",
       "      <td>0</td>\n",
       "      <td>0</td>\n",
       "      <td>0</td>\n",
       "      <td>0</td>\n",
       "      <td>0</td>\n",
       "      <td>5</td>\n",
       "    </tr>\n",
       "    <tr>\n",
       "      <th>12969</th>\n",
       "      <td>2</td>\n",
       "      <td>1</td>\n",
       "      <td>1</td>\n",
       "      <td>0</td>\n",
       "      <td>1</td>\n",
       "      <td>0</td>\n",
       "      <td>0</td>\n",
       "      <td>0</td>\n",
       "      <td>0</td>\n",
       "      <td>0</td>\n",
       "      <td>...</td>\n",
       "      <td>0</td>\n",
       "      <td>0</td>\n",
       "      <td>0</td>\n",
       "      <td>0</td>\n",
       "      <td>0</td>\n",
       "      <td>0</td>\n",
       "      <td>0</td>\n",
       "      <td>0</td>\n",
       "      <td>0</td>\n",
       "      <td>0</td>\n",
       "    </tr>\n",
       "    <tr>\n",
       "      <th>12970</th>\n",
       "      <td>1</td>\n",
       "      <td>0</td>\n",
       "      <td>0</td>\n",
       "      <td>0</td>\n",
       "      <td>0</td>\n",
       "      <td>0</td>\n",
       "      <td>0</td>\n",
       "      <td>0</td>\n",
       "      <td>0</td>\n",
       "      <td>0</td>\n",
       "      <td>...</td>\n",
       "      <td>0</td>\n",
       "      <td>0</td>\n",
       "      <td>0</td>\n",
       "      <td>0</td>\n",
       "      <td>0</td>\n",
       "      <td>0</td>\n",
       "      <td>0</td>\n",
       "      <td>0</td>\n",
       "      <td>0</td>\n",
       "      <td>5</td>\n",
       "    </tr>\n",
       "    <tr>\n",
       "      <th>12971</th>\n",
       "      <td>2</td>\n",
       "      <td>0</td>\n",
       "      <td>0</td>\n",
       "      <td>0</td>\n",
       "      <td>0</td>\n",
       "      <td>0</td>\n",
       "      <td>0</td>\n",
       "      <td>1</td>\n",
       "      <td>0</td>\n",
       "      <td>0</td>\n",
       "      <td>...</td>\n",
       "      <td>0</td>\n",
       "      <td>0</td>\n",
       "      <td>0</td>\n",
       "      <td>0</td>\n",
       "      <td>0</td>\n",
       "      <td>0</td>\n",
       "      <td>0</td>\n",
       "      <td>0</td>\n",
       "      <td>0</td>\n",
       "      <td>5</td>\n",
       "    </tr>\n",
       "    <tr>\n",
       "      <th>12972</th>\n",
       "      <td>1</td>\n",
       "      <td>0</td>\n",
       "      <td>0</td>\n",
       "      <td>0</td>\n",
       "      <td>0</td>\n",
       "      <td>0</td>\n",
       "      <td>0</td>\n",
       "      <td>0</td>\n",
       "      <td>0</td>\n",
       "      <td>0</td>\n",
       "      <td>...</td>\n",
       "      <td>0</td>\n",
       "      <td>0</td>\n",
       "      <td>0</td>\n",
       "      <td>0</td>\n",
       "      <td>0</td>\n",
       "      <td>0</td>\n",
       "      <td>0</td>\n",
       "      <td>0</td>\n",
       "      <td>0</td>\n",
       "      <td>5</td>\n",
       "    </tr>\n",
       "  </tbody>\n",
       "</table>\n",
       "<p>5 rows × 59 columns</p>\n",
       "</div>"
      ],
      "text/plain": [
       "       iphone  samsunggalaxy  sonyxperia  nokialumina  htcphone  ios  \\\n",
       "12968       1              0           0            0         0    0   \n",
       "12969       2              1           1            0         1    0   \n",
       "12970       1              0           0            0         0    0   \n",
       "12971       2              0           0            0         0    0   \n",
       "12972       1              0           0            0         0    0   \n",
       "\n",
       "       googleandroid  iphonecampos  samsungcampos  sonycampos  ...  \\\n",
       "12968              0             0              0           0  ...   \n",
       "12969              0             0              0           0  ...   \n",
       "12970              0             0              0           0  ...   \n",
       "12971              0             1              0           0  ...   \n",
       "12972              0             0              0           0  ...   \n",
       "\n",
       "       sonyperunc  nokiaperunc  htcperunc  iosperpos  googleperpos  iosperneg  \\\n",
       "12968           0            0          0          0             0          0   \n",
       "12969           0            0          0          0             0          0   \n",
       "12970           0            0          0          0             0          0   \n",
       "12971           0            0          0          0             0          0   \n",
       "12972           0            0          0          0             0          0   \n",
       "\n",
       "       googleperneg  iosperunc  googleperunc  iphonesentiment  \n",
       "12968             0          0             0                5  \n",
       "12969             0          0             0                0  \n",
       "12970             0          0             0                5  \n",
       "12971             0          0             0                5  \n",
       "12972             0          0             0                5  \n",
       "\n",
       "[5 rows x 59 columns]"
      ]
     },
     "execution_count": 3,
     "metadata": {},
     "output_type": "execute_result"
    }
   ],
   "source": [
    "dataframe.tail()"
   ]
  },
  {
   "cell_type": "code",
   "execution_count": 4,
   "metadata": {},
   "outputs": [
    {
     "name": "stdout",
     "output_type": "stream",
     "text": [
      "8302 train examples\n",
      "2076 validation examples\n",
      "2595 test examples\n"
     ]
    }
   ],
   "source": [
    "from sklearn.model_selection import train_test_split\n",
    "\n",
    "train, test = train_test_split(dataframe, test_size=0.2)\n",
    "train, val = train_test_split(train, test_size=0.2)\n",
    "print(len(train), 'train examples')\n",
    "print(len(val), 'validation examples')\n",
    "print(len(test), 'test examples')\n"
   ]
  },
  {
   "cell_type": "code",
   "execution_count": 5,
   "metadata": {},
   "outputs": [],
   "source": [
    "# A utility method to create a tf.data dataset from a Pandas Dataframe\n",
    "def df_to_dataset(dataframe,label, shuffle=True, batch_size=32):\n",
    "    dataframe = dataframe.copy()\n",
    "    labels = dataframe.pop(label)\n",
    "    ds = tf.data.Dataset.from_tensor_slices((dict(dataframe), labels))\n",
    "    if shuffle:\n",
    "        ds = ds.shuffle(buffer_size=len(dataframe))\n",
    "    ds = ds.batch(batch_size)\n",
    "    return ds\n"
   ]
  },
  {
   "cell_type": "code",
   "execution_count": 6,
   "metadata": {},
   "outputs": [],
   "source": [
    "features = dataframe.drop('iphonesentiment',axis = 1)\n",
    "\n",
    "features = features.columns\n"
   ]
  },
  {
   "cell_type": "code",
   "execution_count": 7,
   "metadata": {},
   "outputs": [],
   "source": [
    "train_ds = df_to_dataset(train,'iphonesentiment')\n",
    "val_ds = df_to_dataset(val, shuffle=False,label = 'iphonesentiment' )\n",
    "test_ds = df_to_dataset(test, shuffle=False, label =  'iphonesentiment')\n"
   ]
  },
  {
   "cell_type": "code",
   "execution_count": 8,
   "metadata": {},
   "outputs": [
    {
     "name": "stdout",
     "output_type": "stream",
     "text": [
      "Every feature: ['iphone', 'samsunggalaxy', 'sonyxperia', 'nokialumina', 'htcphone', 'ios', 'googleandroid', 'iphonecampos', 'samsungcampos', 'sonycampos', 'nokiacampos', 'htccampos', 'iphonecamneg', 'samsungcamneg', 'sonycamneg', 'nokiacamneg', 'htccamneg', 'iphonecamunc', 'samsungcamunc', 'sonycamunc', 'nokiacamunc', 'htccamunc', 'iphonedispos', 'samsungdispos', 'sonydispos', 'nokiadispos', 'htcdispos', 'iphonedisneg', 'samsungdisneg', 'sonydisneg', 'nokiadisneg', 'htcdisneg', 'iphonedisunc', 'samsungdisunc', 'sonydisunc', 'nokiadisunc', 'htcdisunc', 'iphoneperpos', 'samsungperpos', 'sonyperpos', 'nokiaperpos', 'htcperpos', 'iphoneperneg', 'samsungperneg', 'sonyperneg', 'nokiaperneg', 'htcperneg', 'iphoneperunc', 'samsungperunc', 'sonyperunc', 'nokiaperunc', 'htcperunc', 'iosperpos', 'googleperpos', 'iosperneg', 'googleperneg', 'iosperunc', 'googleperunc']\n",
      "A batch of : nokialumina  tf.Tensor([0 0 0 0 0 0 0 0 0 0 0 0 0 0 0 0 0 0 0 0 0 0 0 0 0 0 0 0 0 0 0 0], shape=(32,), dtype=int32)\n",
      "A batch of targets: tf.Tensor([4 5 5 5 5 5 0 3 5 0 5 5 0 5 5 5 0 0 5 1 4 0 0 5 5 5 0 5 3 5 0 5], shape=(32,), dtype=int32)\n"
     ]
    }
   ],
   "source": [
    "for feature_batch, label_batch in train_ds.take(1):\n",
    "    print('Every feature:', list(feature_batch.keys()))\n",
    "    print('A batch of : nokialumina ', feature_batch['nokialumina'])\n",
    "    print('A batch of targets:', label_batch )\n"
   ]
  },
  {
   "cell_type": "code",
   "execution_count": 9,
   "metadata": {},
   "outputs": [],
   "source": [
    "def demo(feature_column):\n",
    "    feature_layer = layers.DenseFeatures(feature_column)\n",
    "    print(feature_layer(example_batch).numpy())\n"
   ]
  },
  {
   "cell_type": "code",
   "execution_count": 10,
   "metadata": {},
   "outputs": [],
   "source": [
    "feature_columns = []\n",
    "\n",
    "# numeric \n",
    "\n",
    "for header in features :\n",
    "    feature_columns.append(feature_column.numeric_column(header))\n",
    "\n",
    "\n",
    "     "
   ]
  },
  {
   "cell_type": "code",
   "execution_count": 11,
   "metadata": {},
   "outputs": [],
   "source": [
    "feature_layer = tf.keras.layers.DenseFeatures(feature_columns)\n"
   ]
  },
  {
   "cell_type": "code",
   "execution_count": 12,
   "metadata": {},
   "outputs": [
    {
     "data": {
      "text/plain": [
       "58"
      ]
     },
     "execution_count": 12,
     "metadata": {},
     "output_type": "execute_result"
    }
   ],
   "source": [
    "len(features)"
   ]
  },
  {
   "cell_type": "code",
   "execution_count": 18,
   "metadata": {},
   "outputs": [
    {
     "name": "stdout",
     "output_type": "stream",
     "text": [
      "Epoch 1/10\n",
      "260/260 [==============================] - 13s 51ms/step - loss: 40.2937 - accuracy: 0.1342 - val_loss: 40.8072 - val_accuracy: 0.6696\n",
      "Epoch 2/10\n",
      "260/260 [==============================] - 12s 48ms/step - loss: 40.2510 - accuracy: 0.1959 - val_loss: 40.7159 - val_accuracy: 0.0087\n",
      "Epoch 3/10\n",
      "260/260 [==============================] - 12s 48ms/step - loss: 40.2522 - accuracy: 0.1955 - val_loss: 40.6169 - val_accuracy: 0.0583\n",
      "Epoch 4/10\n",
      "260/260 [==============================] - 13s 49ms/step - loss: 40.2522 - accuracy: 0.1029 - val_loss: 40.6447 - val_accuracy: 0.5925\n",
      "Epoch 5/10\n",
      "260/260 [==============================] - 13s 48ms/step - loss: 40.2029 - accuracy: 0.2744 - val_loss: 40.6006 - val_accuracy: 0.1397\n",
      "Epoch 6/10\n",
      "260/260 [==============================] - 12s 48ms/step - loss: 40.2024 - accuracy: 0.0924 - val_loss: 40.6128 - val_accuracy: 0.0419\n",
      "Epoch 7/10\n",
      "260/260 [==============================] - 12s 48ms/step - loss: 40.1924 - accuracy: 0.1079 - val_loss: 40.5706 - val_accuracy: 0.1252\n",
      "Epoch 8/10\n",
      "260/260 [==============================] - 12s 48ms/step - loss: 40.1669 - accuracy: 0.1047 - val_loss: 40.5666 - val_accuracy: 0.0443\n",
      "Epoch 9/10\n",
      "260/260 [==============================] - 12s 48ms/step - loss: 40.1629 - accuracy: 0.1489 - val_loss: 40.5688 - val_accuracy: 0.0930\n",
      "Epoch 10/10\n",
      "260/260 [==============================] - 12s 48ms/step - loss: 40.1606 - accuracy: 0.1647 - val_loss: 40.5643 - val_accuracy: 0.0231\n"
     ]
    },
    {
     "data": {
      "text/plain": [
       "<tensorflow.python.keras.callbacks.History at 0x7f3dc07e02b0>"
      ]
     },
     "execution_count": 18,
     "metadata": {},
     "output_type": "execute_result"
    }
   ],
   "source": [
    "model = tf.keras.Sequential([\n",
    "  feature_layer,\n",
    "  layers.Dense(128, activation='relu'),\n",
    "  layers.Dense(128, activation='relu'),\n",
    "  layers.Dense(6, activation='softmax')\n",
    "])\n",
    "\n",
    "model.compile(optimizer='adam',\n",
    "              loss='categorical_crossentropy',\n",
    "              metrics=['accuracy'],\n",
    "              run_eagerly=True)\n",
    "\n",
    "\n",
    "\n",
    "\n",
    "model.fit(train_ds,\n",
    "          validation_data=val_ds,\n",
    "          epochs=10,)\n"
   ]
  },
  {
   "cell_type": "code",
   "execution_count": null,
   "metadata": {},
   "outputs": [],
   "source": []
  }
 ],
 "metadata": {
  "kernelspec": {
   "display_name": "Python 3",
   "language": "python",
   "name": "python3"
  },
  "language_info": {
   "codemirror_mode": {
    "name": "ipython",
    "version": 3
   },
   "file_extension": ".py",
   "mimetype": "text/x-python",
   "name": "python",
   "nbconvert_exporter": "python",
   "pygments_lexer": "ipython3",
   "version": "3.7.3"
  },
  "varInspector": {
   "cols": {
    "lenName": 16,
    "lenType": 16,
    "lenVar": 40
   },
   "kernels_config": {
    "python": {
     "delete_cmd_postfix": "",
     "delete_cmd_prefix": "del ",
     "library": "var_list.py",
     "varRefreshCmd": "print(var_dic_list())"
    },
    "r": {
     "delete_cmd_postfix": ") ",
     "delete_cmd_prefix": "rm(",
     "library": "var_list.r",
     "varRefreshCmd": "cat(var_dic_list()) "
    }
   },
   "types_to_exclude": [
    "module",
    "function",
    "builtin_function_or_method",
    "instance",
    "_Feature"
   ],
   "window_display": false
  }
 },
 "nbformat": 4,
 "nbformat_minor": 2
}
