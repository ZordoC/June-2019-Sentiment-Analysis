{
 "cells": [
  {
   "cell_type": "code",
   "execution_count": 1,
   "metadata": {},
   "outputs": [],
   "source": [
    "def cut_cols(df,x):\n",
    "    df = df.copy(deep=True)\n",
    "    cols = [col for col in df if col.startswith(x) ]\n",
    "    df = df[cols]\n",
    "    return df \n",
    "    "
   ]
  },
  {
   "cell_type": "code",
   "execution_count": 2,
   "metadata": {},
   "outputs": [],
   "source": [
    "def missing_percentage_data(df):\n",
    "    \n",
    "    \n",
    "    missing_values_count = df.isnull().sum()\n",
    "\n",
    "    total_cells = np.product(df.shape)\n",
    "    \n",
    "    total_missing = missing_values_count.sum()\n",
    "\n",
    "    missing_percent = (total_missing/total_cells) * 100\n",
    "\n",
    "    print('Percent of missing data of = {}%'.format(missing_percent))\n",
    "    \n",
    "    return "
   ]
  },
  {
   "cell_type": "code",
   "execution_count": 3,
   "metadata": {},
   "outputs": [],
   "source": [
    "def correlation(df, threshold):\n",
    "    df = df.copy(deep=True)\n",
    "    col_corr = set() # Set of all the names of deleted columns\n",
    "    corr_matrix = df.corr()\n",
    "    for i in range(len(corr_matrix.columns)):\n",
    "        for j in range(i):\n",
    "            if (corr_matrix.iloc[i, j] >= threshold) and (corr_matrix.columns[j] not in col_corr):\n",
    "                colname = corr_matrix.columns[i] # getting the name of column\n",
    "                col_corr.add(colname)\n",
    "                if colname in df.columns:\n",
    "                    del df[colname] # deleting the column from the dataset\n",
    "\n",
    "    return df"
   ]
  },
  {
   "cell_type": "code",
   "execution_count": 4,
   "metadata": {},
   "outputs": [],
   "source": [
    "def near_zero_var(df,tresh):\n",
    "    df = df.copy(deep=True)\n",
    "    cols = df.columns\n",
    "    for i in range(len(cols)):\n",
    "        if df[cols[i]].var() <= tresh :\n",
    "            del df[cols[i]] \n",
    "    \n",
    "    return df \n",
    "    "
   ]
  },
  {
   "cell_type": "code",
   "execution_count": 5,
   "metadata": {},
   "outputs": [],
   "source": [
    "def most_imp_vars(df,varimparray):\n",
    "    df_copy= df.copy()\n",
    "    for i in varimparray:\n",
    "        if varimparray[i] != 1:\n",
    "            print(df_copy.columns[i])\n",
    "            del df_copy[df_copy.columns[i]]\n",
    "            \n",
    "    return df_copy \n",
    "    "
   ]
  },
  {
   "cell_type": "code",
   "execution_count": 7,
   "metadata": {},
   "outputs": [],
   "source": [
    "def X_Y_split(df,label):\n",
    "    \n",
    "    X= df.loc[:,df.columns != label ]\n",
    "    y = df[label]\n",
    "    \n",
    "    return X,y \n",
    "\n",
    "    \n",
    "    "
   ]
  },
  {
   "cell_type": "code",
   "execution_count": null,
   "metadata": {},
   "outputs": [],
   "source": [
    "#Create training and testing sets with a 70/30 split using createDataPartition.\n",
    "from sklearn.model_selection import train_test_split\n",
    "\n",
    "X_train_iphone , X_test_iphone , y_train_iphone , y_test_iphone =  train_test_split(X_iphone, y_iphone, test_size=0.33, random_state=42)\n",
    "\n",
    "\n"
   ]
  }
 ],
 "metadata": {
  "kernelspec": {
   "display_name": "Python 3",
   "language": "python",
   "name": "python3"
  },
  "language_info": {
   "codemirror_mode": {
    "name": "ipython",
    "version": 3
   },
   "file_extension": ".py",
   "mimetype": "text/x-python",
   "name": "python",
   "nbconvert_exporter": "python",
   "pygments_lexer": "ipython3",
   "version": "3.7.3"
  },
  "varInspector": {
   "cols": {
    "lenName": 16,
    "lenType": 16,
    "lenVar": 40
   },
   "kernels_config": {
    "python": {
     "delete_cmd_postfix": "",
     "delete_cmd_prefix": "del ",
     "library": "var_list.py",
     "varRefreshCmd": "print(var_dic_list())"
    },
    "r": {
     "delete_cmd_postfix": ") ",
     "delete_cmd_prefix": "rm(",
     "library": "var_list.r",
     "varRefreshCmd": "cat(var_dic_list()) "
    }
   },
   "types_to_exclude": [
    "module",
    "function",
    "builtin_function_or_method",
    "instance",
    "_Feature"
   ],
   "window_display": false
  }
 },
 "nbformat": 4,
 "nbformat_minor": 2
}
