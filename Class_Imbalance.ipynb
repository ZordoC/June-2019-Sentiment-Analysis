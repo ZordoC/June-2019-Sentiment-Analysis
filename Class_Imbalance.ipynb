{
 "cells": [
  {
   "cell_type": "markdown",
   "metadata": {},
   "source": [
    "<h5> \n",
    "    <font size = 6 > \n",
    "    <font color = green>    \n",
    "   <h1> Class Imbalance : undersampling </h1>\n",
    "        \n",
    "        \n",
    "    "
   ]
  },
  {
   "cell_type": "code",
   "execution_count": 163,
   "metadata": {},
   "outputs": [],
   "source": [
    "import os \n",
    "import pandas as pd \n",
    "import numpy as np \n",
    "from time import time\n",
    "import multiprocessing as mp\n",
    "from multiprocessing import Process, current_process \n",
    "from sklearn.model_selection import train_test_split\n",
    "from sklearn.ensemble import RandomForestClassifier\n",
    "from sklearn.metrics import accuracy_score, confusion_matrix,cohen_kappa_score\n",
    "import time\n",
    "\n",
    "\n"
   ]
  },
  {
   "cell_type": "code",
   "execution_count": 166,
   "metadata": {},
   "outputs": [],
   "source": [
    "iphone_df = pd.read_csv(r\"iphone_smallmatrix_labeled_9d.csv\")\n"
   ]
  },
  {
   "cell_type": "code",
   "execution_count": 167,
   "metadata": {},
   "outputs": [
    {
     "data": {
      "text/plain": [
       "5    7540\n",
       "0    1962\n",
       "4    1439\n",
       "3    1188\n",
       "2     454\n",
       "1     390\n",
       "Name: iphonesentiment, dtype: int64"
      ]
     },
     "execution_count": 167,
     "metadata": {},
     "output_type": "execute_result"
    }
   ],
   "source": [
    "iphone_df['iphonesentiment'].value_counts()"
   ]
  },
  {
   "cell_type": "code",
   "execution_count": 168,
   "metadata": {},
   "outputs": [],
   "source": [
    "minority = len(iphone_df[iphone_df['iphonesentiment'] == 1])"
   ]
  },
  {
   "cell_type": "code",
   "execution_count": 169,
   "metadata": {},
   "outputs": [
    {
     "name": "stdout",
     "output_type": "stream",
     "text": [
      "Int64Index([    0,     1,     2,     3,     4,     7,     8,     9,    11,\n",
      "               12,\n",
      "            ...\n",
      "            12867, 12871, 12885, 12906, 12914, 12919, 12923, 12934, 12950,\n",
      "            12969],\n",
      "           dtype='int64', length=1962)\n",
      "Int64Index([ 824,  825,  827,  828,  829,  830,  831,  832,  833,  834,\n",
      "            ...\n",
      "            1297, 1298, 1299, 1300, 1301, 1302, 1303, 1304, 1306, 1308],\n",
      "           dtype='int64', length=390)\n",
      "Int64Index([  103,   154,   310,   333,   450,   550,   591,   666,   884,\n",
      "             1028,\n",
      "            ...\n",
      "            10926, 11099, 11132, 11397, 11711, 11887, 11973, 12000, 12442,\n",
      "            12726],\n",
      "           dtype='int64', length=454)\n",
      "Int64Index([   10,    71,    74,   109,   138,   146,   149,   218,   258,\n",
      "              264,\n",
      "            ...\n",
      "            12750, 12751, 12752, 12757, 12797, 12824, 12887, 12895, 12918,\n",
      "            12941],\n",
      "           dtype='int64', length=1188)\n",
      "Int64Index([    5,     6,    77,   126,   143,   156,   194,   207,   212,\n",
      "              214,\n",
      "            ...\n",
      "            12737, 12806, 12813, 12831, 12849, 12879, 12896, 12904, 12956,\n",
      "            12963],\n",
      "           dtype='int64', length=1439)\n",
      "Int64Index([ 3423,  3425,  3426,  3427,  3428,  3429,  3430,  3431,  3432,\n",
      "             3433,\n",
      "            ...\n",
      "            12961, 12962, 12964, 12965, 12966, 12967, 12968, 12970, 12971,\n",
      "            12972],\n",
      "           dtype='int64', length=7540)\n"
     ]
    }
   ],
   "source": [
    "dic = { 0: 0, 1:0, 2:0, 3:0, 4:0, 5:0 }\n",
    "\n",
    "for i in range(6):\n",
    "    dic[i]= iphone_df[iphone_df['iphonesentiment'] == i].index\n",
    "    print(dic[i])\n",
    "    "
   ]
  },
  {
   "cell_type": "code",
   "execution_count": 170,
   "metadata": {},
   "outputs": [],
   "source": [
    "dic_ind = { 0: 0, 1:0, 2:0, 3:0, 4:0, 5:0 }\n",
    "\n",
    "for i in range(6):\n",
    "    dic_ind[i] = np.random.choice(dic[i],minority,replace=False)\n",
    "    "
   ]
  },
  {
   "cell_type": "code",
   "execution_count": 1,
   "metadata": {},
   "outputs": [
    {
     "ename": "NameError",
     "evalue": "name 'dic_ind' is not defined",
     "output_type": "error",
     "traceback": [
      "\u001b[0;31m---------------------------------------------------------------------------\u001b[0m",
      "\u001b[0;31mNameError\u001b[0m                                 Traceback (most recent call last)",
      "\u001b[0;32m<ipython-input-1-5b66a2869f6a>\u001b[0m in \u001b[0;36m<module>\u001b[0;34m\u001b[0m\n\u001b[0;32m----> 1\u001b[0;31m \u001b[0munder_sample_indices\u001b[0m \u001b[0;34m=\u001b[0m \u001b[0mnp\u001b[0m\u001b[0;34m.\u001b[0m\u001b[0mconcatenate\u001b[0m\u001b[0;34m(\u001b[0m\u001b[0;34m(\u001b[0m\u001b[0mdic_ind\u001b[0m\u001b[0;34m[\u001b[0m\u001b[0;36m0\u001b[0m\u001b[0;34m]\u001b[0m\u001b[0;34m,\u001b[0m\u001b[0mdic_ind\u001b[0m\u001b[0;34m[\u001b[0m\u001b[0;36m1\u001b[0m\u001b[0;34m]\u001b[0m\u001b[0;34m,\u001b[0m\u001b[0mdic_ind\u001b[0m\u001b[0;34m[\u001b[0m\u001b[0;36m2\u001b[0m\u001b[0;34m]\u001b[0m\u001b[0;34m,\u001b[0m\u001b[0mdic_ind\u001b[0m\u001b[0;34m[\u001b[0m\u001b[0;36m3\u001b[0m\u001b[0;34m]\u001b[0m\u001b[0;34m,\u001b[0m\u001b[0mdic_ind\u001b[0m\u001b[0;34m[\u001b[0m\u001b[0;36m4\u001b[0m\u001b[0;34m]\u001b[0m\u001b[0;34m,\u001b[0m\u001b[0mdic_ind\u001b[0m\u001b[0;34m[\u001b[0m\u001b[0;36m5\u001b[0m\u001b[0;34m]\u001b[0m\u001b[0;34m)\u001b[0m\u001b[0;34m,\u001b[0m \u001b[0maxis\u001b[0m\u001b[0;34m=\u001b[0m\u001b[0;36m0\u001b[0m\u001b[0;34m,\u001b[0m  \u001b[0;34m)\u001b[0m\u001b[0;34m\u001b[0m\u001b[0;34m\u001b[0m\u001b[0m\n\u001b[0m",
      "\u001b[0;31mNameError\u001b[0m: name 'dic_ind' is not defined"
     ]
    }
   ],
   "source": [
    " under_sample_indices = np.concatenate((dic_ind[0],dic_ind[1],dic_ind[2],dic_ind[3],dic_ind[4],dic_ind[5]), axis=0,  )"
   ]
  },
  {
   "cell_type": "code",
   "execution_count": 172,
   "metadata": {},
   "outputs": [],
   "source": [
    "under_sample_df = iphone_df.loc[under_sample_indices]"
   ]
  },
  {
   "cell_type": "code",
   "execution_count": 173,
   "metadata": {},
   "outputs": [],
   "source": [
    "def X_Y_split(df,label):\n",
    "    \n",
    "    X= df.loc[:,df.columns != label ]\n",
    "    y = df[label]\n",
    "    \n",
    "    return X,y \n",
    "\n",
    "    \n",
    "    "
   ]
  },
  {
   "cell_type": "code",
   "execution_count": 174,
   "metadata": {},
   "outputs": [],
   "source": [
    "X_og,y_og = X_Y_split(iphone_df,'iphonesentiment')\n",
    "\n",
    "X_us,y_us = X_Y_split(under_sample_df,'iphonesentiment')"
   ]
  },
  {
   "cell_type": "code",
   "execution_count": 175,
   "metadata": {},
   "outputs": [
    {
     "name": "stdout",
     "output_type": "stream",
     "text": [
      "5    7540\n",
      "0    1962\n",
      "4    1439\n",
      "3    1188\n",
      "2     454\n",
      "1     390\n",
      "Name: iphonesentiment, dtype: int64\n",
      "\n",
      "\n",
      "5    390\n",
      "3    390\n",
      "1    390\n",
      "4    390\n",
      "2    390\n",
      "0    390\n",
      "Name: iphonesentiment, dtype: int64\n"
     ]
    }
   ],
   "source": [
    "print(y_og.value_counts())\n",
    "print(\"\\n\")\n",
    "print(y_us.value_counts())"
   ]
  },
  {
   "cell_type": "code",
   "execution_count": 176,
   "metadata": {},
   "outputs": [],
   "source": [
    "\n",
    "X_train_og , X_test_og , y_train_og , y_test_og =  train_test_split(X_og, y_og, test_size=0.33, random_state=42)\n",
    "\n"
   ]
  },
  {
   "cell_type": "code",
   "execution_count": 160,
   "metadata": {},
   "outputs": [
    {
     "data": {
      "text/plain": [
       "5    7540\n",
       "0    1962\n",
       "4    1439\n",
       "3    1188\n",
       "2     454\n",
       "1     390\n",
       "Name: iphonesentiment, dtype: int64"
      ]
     },
     "execution_count": 160,
     "metadata": {},
     "output_type": "execute_result"
    }
   ],
   "source": [
    "iphone_df['iphonesentiment'].value_counts()"
   ]
  },
  {
   "cell_type": "code",
   "execution_count": null,
   "metadata": {},
   "outputs": [],
   "source": [
    "weights = np.zeros(leny_train)\n",
    "\n",
    "weights[y_train == 1 ] = 5 \n",
    "\n"
   ]
  },
  {
   "cell_type": "code",
   "execution_count": 178,
   "metadata": {},
   "outputs": [
    {
     "ename": "NameError",
     "evalue": "name 'weights' is not defined",
     "output_type": "error",
     "traceback": [
      "\u001b[0;31m---------------------------------------------------------------------------\u001b[0m",
      "\u001b[0;31mNameError\u001b[0m                                 Traceback (most recent call last)",
      "\u001b[0;32m<ipython-input-178-f3c9f7fb0173>\u001b[0m in \u001b[0;36m<module>\u001b[0;34m\u001b[0m\n\u001b[1;32m      1\u001b[0m \u001b[0mstart_time\u001b[0m \u001b[0;34m=\u001b[0m \u001b[0mtime\u001b[0m\u001b[0;34m.\u001b[0m\u001b[0mtime\u001b[0m\u001b[0;34m(\u001b[0m\u001b[0;34m)\u001b[0m\u001b[0;34m\u001b[0m\u001b[0;34m\u001b[0m\u001b[0m\n\u001b[1;32m      2\u001b[0m \u001b[0;34m\u001b[0m\u001b[0m\n\u001b[0;32m----> 3\u001b[0;31m \u001b[0mrf\u001b[0m \u001b[0;34m=\u001b[0m \u001b[0mRandomForestClassifier\u001b[0m\u001b[0;34m(\u001b[0m \u001b[0mclass_weight\u001b[0m\u001b[0;34m=\u001b[0m\u001b[0mweights\u001b[0m \u001b[0;34m)\u001b[0m\u001b[0;34m\u001b[0m\u001b[0;34m\u001b[0m\u001b[0m\n\u001b[0m\u001b[1;32m      4\u001b[0m \u001b[0;34m\u001b[0m\u001b[0m\n\u001b[1;32m      5\u001b[0m \u001b[0mrf\u001b[0m\u001b[0;34m.\u001b[0m\u001b[0mfit\u001b[0m\u001b[0;34m(\u001b[0m\u001b[0mX_train_og\u001b[0m\u001b[0;34m,\u001b[0m\u001b[0my_train_og\u001b[0m\u001b[0;34m)\u001b[0m\u001b[0;34m\u001b[0m\u001b[0;34m\u001b[0m\u001b[0m\n",
      "\u001b[0;31mNameError\u001b[0m: name 'weights' is not defined"
     ]
    }
   ],
   "source": [
    "start_time = time.time()\n",
    "\n",
    "rf = RandomForestClassifier(  )\n",
    "\n",
    "rf.fit(X_train_og,y_train_og)\n",
    "\n",
    "predictions = rf.predict(X_test_og)\n",
    "\n",
    "end_time = start_time - time.time()\n",
    "\n",
    "print(\"--- Run Time is : %s mins--- \\n \" % np.round(((time.time()-start_time)/60),2))\n",
    "print(\"Accuracy : \",accuracy_score(predictions,y_test_og))\n",
    "print(\"\\n\")\n",
    "\n",
    "print(\"Kappa's : \",cohen_kappa_score(predictions,y_test_og))\n",
    "\n",
    "print(\"\\n\")\n",
    "print(\"Confusion Matrix : \\n \\n  \",confusion_matrix(predictions,y_test_og) )\n"
   ]
  },
  {
   "cell_type": "code",
   "execution_count": null,
   "metadata": {},
   "outputs": [],
   "source": [
    " [ 386    0    1    3    6   11]\n",
    " [   1    0    0    0    1    3]\n",
    " [   0    1   21    0    1    6]\n",
    " [   3    0    1  273    2   10]\n",
    " [   4    1    1    4  156   37]\n",
    " [ 221  112  138  119  326 2433]"
   ]
  },
  {
   "cell_type": "code",
   "execution_count": 161,
   "metadata": {},
   "outputs": [
    {
     "data": {
      "text/plain": [
       "5    2500\n",
       "0     615\n",
       "4     492\n",
       "3     399\n",
       "2     162\n",
       "1     114\n",
       "Name: iphonesentiment, dtype: int64"
      ]
     },
     "execution_count": 161,
     "metadata": {},
     "output_type": "execute_result"
    }
   ],
   "source": [
    "y_test_og.value_counts()"
   ]
  },
  {
   "cell_type": "code",
   "execution_count": null,
   "metadata": {},
   "outputs": [],
   "source": []
  },
  {
   "cell_type": "code",
   "execution_count": null,
   "metadata": {},
   "outputs": [],
   "source": []
  },
  {
   "cell_type": "code",
   "execution_count": null,
   "metadata": {},
   "outputs": [],
   "source": []
  },
  {
   "cell_type": "code",
   "execution_count": null,
   "metadata": {},
   "outputs": [],
   "source": []
  },
  {
   "cell_type": "code",
   "execution_count": 44,
   "metadata": {},
   "outputs": [],
   "source": [
    "X_train_us, X_test_us, y_train_us, y_test_us=  train_test_split(X_us, y_us, test_size=0.33, random_state=42)\n"
   ]
  },
  {
   "cell_type": "code",
   "execution_count": 45,
   "metadata": {},
   "outputs": [
    {
     "name": "stdout",
     "output_type": "stream",
     "text": [
      "--- Run Time is : 0.0 mins--- \n",
      " \n",
      "Accuracy :  0.46054333764553684\n",
      "\n",
      "\n",
      "Kappa's :  0.3547824694496433\n",
      "\n",
      "\n",
      "Confusion Matrix : \n",
      " \n",
      "   [[88  0  2  0  4  1]\n",
      " [13 27 16  7  3 23]\n",
      " [ 1  4 29  4  8 13]\n",
      " [ 1  6  7 83  4  1]\n",
      " [ 7  8  2  4 50  5]\n",
      " [26 90 67 28 62 79]]\n"
     ]
    }
   ],
   "source": [
    "start_time = time.time()\n",
    "\n",
    "rf = RandomForestClassifier()\n",
    "\n",
    "rf.fit(X_train_us,y_train_us)\n",
    "\n",
    "predictions = rf.predict(X_test_us)\n",
    "\n",
    "end_time = start_time - time.time()\n",
    "\n",
    "print(\"--- Run Time is : %s mins--- \\n \" % np.round(((time.time()-start_time)/60),2))\n",
    "print(\"Accuracy : \",accuracy_score(predictions,y_test_us))\n",
    "print(\"\\n\")\n",
    "\n",
    "print(\"Kappa's : \",cohen_kappa_score(predictions,y_test_us))\n",
    "\n",
    "print(\"\\n\")\n",
    "print(\"Confusion Matrix : \\n \\n  \",confusion_matrix(predictions,y_test_us) )\n"
   ]
  },
  {
   "cell_type": "code",
   "execution_count": 46,
   "metadata": {},
   "outputs": [
    {
     "name": "stdout",
     "output_type": "stream",
     "text": [
      "--- Run Time is : 0.01 mins--- \n",
      " \n",
      "Accuracy :  0.6057916861279776\n",
      "\n",
      "\n",
      "Kappa's :  0.4062462623498534\n",
      "\n",
      "\n",
      "Confusion Matrix : \n",
      " \n",
      "   [[ 390    0    0    4    4   26]\n",
      " [  53   43   21   21   59  517]\n",
      " [  16    1   54   12   28  162]\n",
      " [   9    1    0  278    8   30]\n",
      " [  14    4    5    4  197  133]\n",
      " [ 133   65   82   80  196 1632]]\n"
     ]
    }
   ],
   "source": [
    "start_time = time.time()\n",
    "\n",
    "rf = RandomForestClassifier()\n",
    "\n",
    "rf.fit(X_us,y_us)\n",
    "\n",
    "predictions = rf.predict(X_test_og)\n",
    "\n",
    "end_time = start_time - time.time()\n",
    "\n",
    "print(\"--- Run Time is : %s mins--- \\n \" % np.round(((time.time()-start_time)/60),2))\n",
    "print(\"Accuracy : \",accuracy_score(predictions,y_test_og))\n",
    "print(\"\\n\")\n",
    "\n",
    "print(\"Kappa's : \",cohen_kappa_score(predictions,y_test_og))\n",
    "\n",
    "print(\"\\n\")\n",
    "print(\"Confusion Matrix : \\n \\n  \",confusion_matrix(predictions,y_test_og) )\n"
   ]
  },
  {
   "cell_type": "markdown",
   "metadata": {},
   "source": [
    "<h5> \n",
    "    <font size = 4> \n",
    "      We can see that despite moving our errors from the majority class we still got worse results anyways   \n",
    "      Let's try to cut off only the 5 reviews to around 1500 so it's more balanced"
   ]
  },
  {
   "cell_type": "code",
   "execution_count": 144,
   "metadata": {},
   "outputs": [],
   "source": [
    "index_5 = iphone_df[iphone_df['iphonesentiment'] == 5].index\n",
    "\n",
    "\n",
    "index = np.random.choice(index_5,1500,replace=False)\n",
    "\n",
    "\n"
   ]
  },
  {
   "cell_type": "code",
   "execution_count": 145,
   "metadata": {},
   "outputs": [],
   "source": [
    "index_dic = {0:0,1:0,2:0,3:0,4:0 }\n",
    "\n",
    "for i in range(5):\n",
    "    index_dic[i] = iphone_df[iphone_df['iphonesentiment'] == i].index\n",
    "    \n",
    "    \n",
    "    "
   ]
  },
  {
   "cell_type": "code",
   "execution_count": 146,
   "metadata": {},
   "outputs": [],
   "source": [
    "under_sample_indices = np.concatenate((index_dic[0],index_dic[1],index_dic[2],index_dic[3],\n",
    "                                       index_dic[4],index ), axis=0,  )\n",
    "\n",
    "\n",
    "\n",
    "\n",
    "\n",
    "\n",
    "new_us =  iphone_df.loc[under_sample_indices] \n",
    "\n"
   ]
  },
  {
   "cell_type": "code",
   "execution_count": 147,
   "metadata": {},
   "outputs": [],
   "source": [
    "X_nus,y_nus = X_Y_split(new_us,'iphonesentiment')"
   ]
  },
  {
   "cell_type": "code",
   "execution_count": 148,
   "metadata": {},
   "outputs": [
    {
     "data": {
      "text/plain": [
       "0    1962\n",
       "5    1500\n",
       "4    1439\n",
       "3    1188\n",
       "2     454\n",
       "1     390\n",
       "Name: iphonesentiment, dtype: int64"
      ]
     },
     "execution_count": 148,
     "metadata": {},
     "output_type": "execute_result"
    }
   ],
   "source": [
    "y_nus.value_counts()"
   ]
  },
  {
   "cell_type": "code",
   "execution_count": 150,
   "metadata": {},
   "outputs": [],
   "source": [
    "X_train_nus, X_test_nus, y_train_nus, y_test_nus=  train_test_split(X_nus, y_nus, test_size=0.33, random_state=42)\n",
    "\n"
   ]
  },
  {
   "cell_type": "code",
   "execution_count": 151,
   "metadata": {},
   "outputs": [
    {
     "data": {
      "text/plain": [
       "0    673\n",
       "5    486\n",
       "4    457\n",
       "3    397\n",
       "2    151\n",
       "1    124\n",
       "Name: iphonesentiment, dtype: int64"
      ]
     },
     "execution_count": 151,
     "metadata": {},
     "output_type": "execute_result"
    }
   ],
   "source": [
    "y_test_nus.value_counts()"
   ]
  },
  {
   "cell_type": "code",
   "execution_count": 156,
   "metadata": {},
   "outputs": [
    {
     "name": "stdout",
     "output_type": "stream",
     "text": [
      "--- Run Time is : 0.01 mins--- \n",
      " \n",
      "Accuracy :  0.5690559440559441\n",
      "\n",
      "\n",
      "Kappa's :  0.4482660119460907\n",
      "\n",
      "\n",
      "Confusion Matrix : \n",
      " \n",
      "   [[445   2   7   8  16  12]\n",
      " [  5   1   3   4   2  12]\n",
      " [  1   2  21   1   4   8]\n",
      " [  9   5   6 262   8  16]\n",
      " [ 24  12  16  17 173  38]\n",
      " [189 102  98 105 254 400]]\n"
     ]
    }
   ],
   "source": [
    "start_time = time.time()\n",
    "\n",
    "rf = RandomForestClassifier()\n",
    "\n",
    "rf.fit(X_train_nus,y_train_nus)\n",
    "\n",
    "predictions = rf.predict(X_test_nus)\n",
    "\n",
    "end_time = start_time - time.time()\n",
    "\n",
    "print(\"--- Run Time is : %s mins--- \\n \" % np.round(((time.time()-start_time)/60),2))\n",
    "print(\"Accuracy : \",accuracy_score(predictions,y_test_nus))\n",
    "print(\"\\n\")\n",
    "\n",
    "print(\"Kappa's : \",cohen_kappa_score(predictions,y_test_nus))\n",
    "\n",
    "print(\"\\n\")\n",
    "print(\"Confusion Matrix : \\n \\n  \",confusion_matrix(predictions,y_test_nus) )\n"
   ]
  },
  {
   "cell_type": "code",
   "execution_count": 155,
   "metadata": {},
   "outputs": [
    {
     "name": "stdout",
     "output_type": "stream",
     "text": [
      "--- Run Time is : 7.23 mins--- \n",
      " \n",
      "Accuracy :  0.2933208780943484\n",
      "\n",
      "\n",
      "Kappa's :  0.20149986245221574\n",
      "\n",
      "\n",
      "Confusion Matrix : \n",
      " \n",
      "   [[ 447   18   17   13   40  393]\n",
      " [   8   18    3    5    5   86]\n",
      " [   5    2   48    3    8   93]\n",
      " [   5    1    0  296    4   90]\n",
      " [ 150   75   94   82  435 1826]\n",
      " [   0    0    0    0    0   12]]\n"
     ]
    }
   ],
   "source": [
    "predictions = rf.predict(X_test_og)\n",
    "\n",
    "end_time = start_time - time.time()\n",
    "\n",
    "print(\"--- Run Time is : %s mins--- \\n \" % np.round(((time.time()-start_time)/60),2))\n",
    "print(\"Accuracy : \",accuracy_score(predictions,y_test_og))\n",
    "print(\"\\n\")\n",
    "\n",
    "print(\"Kappa's : \",cohen_kappa_score(predictions,y_test_og))\n",
    "\n",
    "print(\"\\n\")\n",
    "print(\"Confusion Matrix : \\n \\n  \",confusion_matrix(predictions,y_test_og) )\n"
   ]
  },
  {
   "cell_type": "code",
   "execution_count": 153,
   "metadata": {},
   "outputs": [
    {
     "name": "stdout",
     "output_type": "stream",
     "text": [
      "5    2500\n",
      "0     615\n",
      "4     492\n",
      "3     399\n",
      "2     162\n",
      "1     114\n",
      "Name: iphonesentiment, dtype: int64\n",
      "\n",
      "\n",
      "0    673\n",
      "5    486\n",
      "4    457\n",
      "3    397\n",
      "2    151\n",
      "1    124\n",
      "Name: iphonesentiment, dtype: int64\n"
     ]
    }
   ],
   "source": [
    "print(y_test_og.value_counts())\n",
    "\n",
    "print(\"\\n\")\n",
    "\n",
    "\n",
    "\n",
    "print(y_test_nus.value_counts())\n",
    "\n",
    "\n"
   ]
  },
  {
   "cell_type": "markdown",
   "metadata": {},
   "source": [
    "<h5> \n",
    "    <font size = 6 > \n",
    "    <font color = green>    \n",
    "   <h1> Class Imbalance : Oversampling </h1>\n",
    "        \n",
    "        \n",
    "    "
   ]
  },
  {
   "cell_type": "code",
   "execution_count": null,
   "metadata": {},
   "outputs": [],
   "source": [
    "iphone_df = pd.read_csv(r\"iphone_smallmatrix_labeled_9d.csv\")\n"
   ]
  },
  {
   "cell_type": "code",
   "execution_count": null,
   "metadata": {},
   "outputs": [],
   "source": [
    "iphone_df['iphonesentiment'].value_counts()"
   ]
  },
  {
   "cell_type": "code",
   "execution_count": null,
   "metadata": {},
   "outputs": [],
   "source": [
    "from imblearn.over_sampling import SMOTE\n",
    "\n",
    "# Resample the minority class. You can change the strategy to 'auto' if you are not sure.\n",
    "sm = SMOTE(sampling_strategy='auto', random_state=7)\n",
    "\n",
    "# Fit the model to generate the data.\n",
    "oversampled_trainX, oversampled_trainY = sm.fit_sample(credit_df.drop('Class', axis=1), credit_df['Class'])\n",
    "oversampled_train = pd.concat([pd.DataFrame(oversampled_trainY), pd.DataFrame(oversampled_trainX)], axis=1)\n",
    "oversampled_train.columns = normalized_df.columns"
   ]
  }
 ],
 "metadata": {
  "kernelspec": {
   "display_name": "Python 3",
   "language": "python",
   "name": "python3"
  },
  "language_info": {
   "codemirror_mode": {
    "name": "ipython",
    "version": 3
   },
   "file_extension": ".py",
   "mimetype": "text/x-python",
   "name": "python",
   "nbconvert_exporter": "python",
   "pygments_lexer": "ipython3",
   "version": "3.7.3"
  },
  "varInspector": {
   "cols": {
    "lenName": 16,
    "lenType": 16,
    "lenVar": 40
   },
   "kernels_config": {
    "python": {
     "delete_cmd_postfix": "",
     "delete_cmd_prefix": "del ",
     "library": "var_list.py",
     "varRefreshCmd": "print(var_dic_list())"
    },
    "r": {
     "delete_cmd_postfix": ") ",
     "delete_cmd_prefix": "rm(",
     "library": "var_list.r",
     "varRefreshCmd": "cat(var_dic_list()) "
    }
   },
   "types_to_exclude": [
    "module",
    "function",
    "builtin_function_or_method",
    "instance",
    "_Feature"
   ],
   "window_display": false
  }
 },
 "nbformat": 4,
 "nbformat_minor": 2
}
